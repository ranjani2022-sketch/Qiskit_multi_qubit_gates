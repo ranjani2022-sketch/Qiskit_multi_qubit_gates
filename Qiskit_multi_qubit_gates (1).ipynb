{
  "nbformat": 4,
  "nbformat_minor": 0,
  "metadata": {
    "colab": {
      "provenance": []
    },
    "kernelspec": {
      "name": "python3",
      "display_name": "Python 3"
    },
    "language_info": {
      "name": "python"
    }
  },
  "cells": [
    {
      "cell_type": "code",
      "source": [
        "!pip install qiskit qiskit-aer matplotlib\n"
      ],
      "metadata": {
        "id": "Mx6284lurNt1",
        "colab": {
          "base_uri": "https://localhost:8080/"
        },
        "outputId": "419061d1-f0ca-4344-fea7-c21057006ba2"
      },
      "execution_count": 1,
      "outputs": [
        {
          "output_type": "stream",
          "name": "stdout",
          "text": [
            "Collecting qiskit\n",
            "  Downloading qiskit-2.2.1-cp39-abi3-manylinux2014_x86_64.manylinux_2_17_x86_64.whl.metadata (12 kB)\n",
            "Collecting qiskit-aer\n",
            "  Downloading qiskit_aer-0.17.2-cp312-cp312-manylinux_2_17_x86_64.manylinux2014_x86_64.whl.metadata (8.3 kB)\n",
            "Requirement already satisfied: matplotlib in /usr/local/lib/python3.12/dist-packages (3.10.0)\n",
            "Collecting rustworkx>=0.15.0 (from qiskit)\n",
            "  Downloading rustworkx-0.17.1-cp39-abi3-manylinux_2_17_x86_64.manylinux2014_x86_64.whl.metadata (10 kB)\n",
            "Requirement already satisfied: numpy<3,>=1.17 in /usr/local/lib/python3.12/dist-packages (from qiskit) (2.0.2)\n",
            "Requirement already satisfied: scipy>=1.5 in /usr/local/lib/python3.12/dist-packages (from qiskit) (1.16.2)\n",
            "Requirement already satisfied: dill>=0.3 in /usr/local/lib/python3.12/dist-packages (from qiskit) (0.3.8)\n",
            "Collecting stevedore>=3.0.0 (from qiskit)\n",
            "  Downloading stevedore-5.5.0-py3-none-any.whl.metadata (2.2 kB)\n",
            "Requirement already satisfied: typing-extensions in /usr/local/lib/python3.12/dist-packages (from qiskit) (4.15.0)\n",
            "Requirement already satisfied: psutil>=5 in /usr/local/lib/python3.12/dist-packages (from qiskit-aer) (5.9.5)\n",
            "Requirement already satisfied: python-dateutil>=2.8.0 in /usr/local/lib/python3.12/dist-packages (from qiskit-aer) (2.9.0.post0)\n",
            "Requirement already satisfied: contourpy>=1.0.1 in /usr/local/lib/python3.12/dist-packages (from matplotlib) (1.3.3)\n",
            "Requirement already satisfied: cycler>=0.10 in /usr/local/lib/python3.12/dist-packages (from matplotlib) (0.12.1)\n",
            "Requirement already satisfied: fonttools>=4.22.0 in /usr/local/lib/python3.12/dist-packages (from matplotlib) (4.60.1)\n",
            "Requirement already satisfied: kiwisolver>=1.3.1 in /usr/local/lib/python3.12/dist-packages (from matplotlib) (1.4.9)\n",
            "Requirement already satisfied: packaging>=20.0 in /usr/local/lib/python3.12/dist-packages (from matplotlib) (25.0)\n",
            "Requirement already satisfied: pillow>=8 in /usr/local/lib/python3.12/dist-packages (from matplotlib) (11.3.0)\n",
            "Requirement already satisfied: pyparsing>=2.3.1 in /usr/local/lib/python3.12/dist-packages (from matplotlib) (3.2.5)\n",
            "Requirement already satisfied: six>=1.5 in /usr/local/lib/python3.12/dist-packages (from python-dateutil>=2.8.0->qiskit-aer) (1.17.0)\n",
            "Downloading qiskit-2.2.1-cp39-abi3-manylinux2014_x86_64.manylinux_2_17_x86_64.whl (8.0 MB)\n",
            "\u001b[2K   \u001b[90m━━━━━━━━━━━━━━━━━━━━━━━━━━━━━━━━━━━━━━━━\u001b[0m \u001b[32m8.0/8.0 MB\u001b[0m \u001b[31m30.3 MB/s\u001b[0m eta \u001b[36m0:00:00\u001b[0m\n",
            "\u001b[?25hDownloading qiskit_aer-0.17.2-cp312-cp312-manylinux_2_17_x86_64.manylinux2014_x86_64.whl (12.4 MB)\n",
            "\u001b[2K   \u001b[90m━━━━━━━━━━━━━━━━━━━━━━━━━━━━━━━━━━━━━━━━\u001b[0m \u001b[32m12.4/12.4 MB\u001b[0m \u001b[31m37.0 MB/s\u001b[0m eta \u001b[36m0:00:00\u001b[0m\n",
            "\u001b[?25hDownloading rustworkx-0.17.1-cp39-abi3-manylinux_2_17_x86_64.manylinux2014_x86_64.whl (2.2 MB)\n",
            "\u001b[2K   \u001b[90m━━━━━━━━━━━━━━━━━━━━━━━━━━━━━━━━━━━━━━━━\u001b[0m \u001b[32m2.2/2.2 MB\u001b[0m \u001b[31m54.5 MB/s\u001b[0m eta \u001b[36m0:00:00\u001b[0m\n",
            "\u001b[?25hDownloading stevedore-5.5.0-py3-none-any.whl (49 kB)\n",
            "\u001b[2K   \u001b[90m━━━━━━━━━━━━━━━━━━━━━━━━━━━━━━━━━━━━━━━━\u001b[0m \u001b[32m49.5/49.5 kB\u001b[0m \u001b[31m3.4 MB/s\u001b[0m eta \u001b[36m0:00:00\u001b[0m\n",
            "\u001b[?25hInstalling collected packages: stevedore, rustworkx, qiskit, qiskit-aer\n",
            "Successfully installed qiskit-2.2.1 qiskit-aer-0.17.2 rustworkx-0.17.1 stevedore-5.5.0\n"
          ]
        }
      ]
    },
    {
      "cell_type": "code",
      "execution_count": 2,
      "metadata": {
        "id": "VPOwLacGrCdU",
        "colab": {
          "base_uri": "https://localhost:8080/"
        },
        "outputId": "454d5d48-f37a-4ad5-87e4-fb388b630171"
      },
      "outputs": [
        {
          "output_type": "stream",
          "name": "stdout",
          "text": [
            "Quantum Circuit:\n",
            "        ┌───┐            ░ ┌─┐   \n",
            "   q_0: ┤ H ├──■───■──X──░─┤M├───\n",
            "        └───┘┌─┴─┐ │  │  ░ └╥┘┌─┐\n",
            "   q_1: ─────┤ X ├─■──X──░──╫─┤M├\n",
            "             └───┘       ░  ║ └╥┘\n",
            "   c: 2/════════════════════╬══╬═\n",
            "                            ║  ║ \n",
            "meas: 2/════════════════════╩══╩═\n",
            "                            0  1 \n",
            "\n",
            "Measurement Counts: {'00 00': 526, '11 00': 498}\n"
          ]
        }
      ],
      "source": [
        "from qiskit import QuantumCircuit, transpile\n",
        "from qiskit_aer import AerSimulator\n",
        "\n",
        "# Initialize simulator\n",
        "sim = AerSimulator()\n",
        "\n",
        "# Create a 2-qubit circuit\n",
        "qc = QuantumCircuit(2, 2)\n",
        "\n",
        "# --- Apply multi-qubit gates ---\n",
        "qc.h(0)        # Hadamard on qubit 0\n",
        "qc.cx(0, 1)    # CNOT with control 0 and target 1\n",
        "qc.cz(0, 1)    # Controlled-Z\n",
        "qc.swap(0, 1)  # Swap qubit 0 and 1\n",
        "\n",
        "# Measure all qubits\n",
        "qc.measure_all()\n",
        "\n",
        "# Display circuit\n",
        "print(\"Quantum Circuit:\")\n",
        "print(qc.draw())\n",
        "\n",
        "# Run simulation\n",
        "compiled = transpile(qc, sim)\n",
        "result = sim.run(compiled, shots=1024).result()\n",
        "\n",
        "# Display results\n",
        "counts = result.get_counts()\n",
        "print(\"\\nMeasurement Counts:\", counts)"
      ]
    },
    {
      "cell_type": "code",
      "source": [
        "#task 1 Control/Target Variation\n",
        "from qiskit import QuantumCircuit, transpile\n",
        "from qiskit_aer import AerSimulator\n",
        "from qiskit.visualization import plot_histogram\n",
        "import matplotlib.pyplot as plt\n",
        "\n",
        "# Initialize simulator\n",
        "sim = AerSimulator()\n",
        "\n",
        "# Create 2-qubit circuit\n",
        "qc = QuantumCircuit(2, 2)\n",
        "\n",
        "# Apply gates with control/target swapped\n",
        "qc.h(0)\n",
        "qc.cx(1, 0)   # CNOT: control=1, target=0\n",
        "qc.cz(1, 0)   # CZ: control=1, target=0\n",
        "\n",
        "# Measure\n",
        "qc.measure_all()\n",
        "\n",
        "# Draw circuit\n",
        "print(\"Circuit for Control/Target Variation:\")\n",
        "print(qc.draw())\n",
        "\n",
        "# Simulate\n",
        "compiled = transpile(qc, sim)\n",
        "result = sim.run(compiled, shots=1024).result()\n",
        "counts = result.get_counts()\n",
        "\n",
        "# Show results\n",
        "print(\"\\nMeasurement Counts:\", counts)\n",
        "plot_histogram(counts)\n",
        "plt.show()\n"
      ],
      "metadata": {
        "id": "XXSzfpG9q7hc",
        "colab": {
          "base_uri": "https://localhost:8080/"
        },
        "outputId": "fe1df043-08f3-436b-be16-debfd8428dc8"
      },
      "execution_count": 3,
      "outputs": [
        {
          "output_type": "stream",
          "name": "stdout",
          "text": [
            "Circuit for Control/Target Variation:\n",
            "        ┌───┐┌───┐    ░ ┌─┐   \n",
            "   q_0: ┤ H ├┤ X ├─■──░─┤M├───\n",
            "        └───┘└─┬─┘ │  ░ └╥┘┌─┐\n",
            "   q_1: ───────■───■──░──╫─┤M├\n",
            "                      ░  ║ └╥┘\n",
            "   c: 2/═════════════════╬══╬═\n",
            "                         ║  ║ \n",
            "meas: 2/═════════════════╩══╩═\n",
            "                         0  1 \n",
            "\n",
            "Measurement Counts: {'00 00': 499, '01 00': 525}\n"
          ]
        }
      ]
    },
    {
      "cell_type": "code",
      "source": [
        "#Task 2 Gate Removal\n",
        "from qiskit import QuantumCircuit, transpile\n",
        "from qiskit_aer import AerSimulator\n",
        "from qiskit.visualization import plot_histogram\n",
        "import matplotlib.pyplot as plt\n",
        "\n",
        "# Initialize simulator\n",
        "sim = AerSimulator()\n",
        "\n",
        "# Create 2-qubit circuit\n",
        "qc = QuantumCircuit(2, 2)\n",
        "\n",
        "# Apply gates without SWAP\n",
        "qc.h(0)\n",
        "qc.cx(0, 1)\n",
        "qc.cz(0, 1)\n",
        "# qc.swap(0, 1)  # SWAP removed\n",
        "\n",
        "# Measure\n",
        "qc.measure_all()\n",
        "\n",
        "# Draw circuit\n",
        "print(\"Circuit without SWAP:\")\n",
        "print(qc.draw())\n",
        "\n",
        "# Simulate\n",
        "compiled = transpile(qc, sim)\n",
        "result = sim.run(compiled, shots=1024).result()\n",
        "counts = result.get_counts()\n",
        "\n",
        "# Show results\n",
        "print(\"\\nMeasurement Counts:\", counts)\n",
        "plot_histogram(counts)\n",
        "plt.show()\n"
      ],
      "metadata": {
        "colab": {
          "base_uri": "https://localhost:8080/"
        },
        "id": "tBER6p6Cm8iA",
        "outputId": "29cb2c1e-ba53-4bce-c7d7-247bf158b14d"
      },
      "execution_count": 4,
      "outputs": [
        {
          "output_type": "stream",
          "name": "stdout",
          "text": [
            "Circuit without SWAP:\n",
            "        ┌───┐         ░ ┌─┐   \n",
            "   q_0: ┤ H ├──■───■──░─┤M├───\n",
            "        └───┘┌─┴─┐ │  ░ └╥┘┌─┐\n",
            "   q_1: ─────┤ X ├─■──░──╫─┤M├\n",
            "             └───┘    ░  ║ └╥┘\n",
            "   c: 2/═════════════════╬══╬═\n",
            "                         ║  ║ \n",
            "meas: 2/═════════════════╩══╩═\n",
            "                         0  1 \n",
            "\n",
            "Measurement Counts: {'11 00': 536, '00 00': 488}\n"
          ]
        }
      ]
    },
    {
      "cell_type": "code",
      "source": [
        "#Task 3 Add Another Hadamard\n",
        "from qiskit import QuantumCircuit, transpile\n",
        "from qiskit_aer import AerSimulator\n",
        "from qiskit.visualization import plot_histogram\n",
        "import matplotlib.pyplot as plt\n",
        "\n",
        "# Initialize simulator\n",
        "sim = AerSimulator()\n",
        "\n",
        "# Create 2-qubit circuit\n",
        "qc = QuantumCircuit(2, 2)\n",
        "\n",
        "# Apply gates with additional H on qubit 1\n",
        "qc.h(0)\n",
        "qc.h(1)        # Extra Hadamard on qubit 1\n",
        "qc.cx(0, 1)\n",
        "qc.cz(0, 1)\n",
        "qc.swap(0, 1)\n",
        "\n",
        "# Measure\n",
        "qc.measure_all()\n",
        "\n",
        "# Draw circuit\n",
        "print(\"Circuit with extra Hadamard on Qubit 1:\")\n",
        "print(qc.draw())\n",
        "\n",
        "# Simulate\n",
        "compiled = transpile(qc, sim)\n",
        "result = sim.run(compiled, shots=1024).result()\n",
        "counts = result.get_counts()\n",
        "\n",
        "# Show results\n",
        "print(\"\\nMeasurement Counts:\", counts)\n",
        "plot_histogram(counts)\n",
        "plt.show()\n"
      ],
      "metadata": {
        "id": "jclTEEDRnAtv",
        "outputId": "6984d3fb-87c0-4c48-aa8d-f62c25e62ea9",
        "colab": {
          "base_uri": "https://localhost:8080/"
        }
      },
      "execution_count": 5,
      "outputs": [
        {
          "output_type": "stream",
          "name": "stdout",
          "text": [
            "Circuit with extra Hadamard on Qubit 1:\n",
            "        ┌───┐            ░ ┌─┐   \n",
            "   q_0: ┤ H ├──■───■──X──░─┤M├───\n",
            "        ├───┤┌─┴─┐ │  │  ░ └╥┘┌─┐\n",
            "   q_1: ┤ H ├┤ X ├─■──X──░──╫─┤M├\n",
            "        └───┘└───┘       ░  ║ └╥┘\n",
            "   c: 2/════════════════════╬══╬═\n",
            "                            ║  ║ \n",
            "meas: 2/════════════════════╩══╩═\n",
            "                            0  1 \n",
            "\n",
            "Measurement Counts: {'01 00': 260, '10 00': 242, '11 00': 279, '00 00': 243}\n"
          ]
        }
      ]
    }
  ]
}